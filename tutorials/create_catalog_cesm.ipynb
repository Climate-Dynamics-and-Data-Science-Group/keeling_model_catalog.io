{
 "cells": [
  {
   "cell_type": "markdown",
   "id": "68b6b854",
   "metadata": {},
   "source": [
    "# Create Catalog for CESM output"
   ]
  },
  {
   "cell_type": "code",
   "execution_count": 1,
   "id": "519c212b",
   "metadata": {},
   "outputs": [],
   "source": [
    "import pathlib\n",
    "from os import listdir\n",
    "from os.path import isfile, join\n",
    "import shutil\n",
    "\n",
    "import intake\n",
    "from ecgtools import Builder\n",
    "from ecgtools.parsers.cesm import parse_cesm_timeseries\n",
    "\n",
    "import pandas as pd \n",
    "import xarray as xr\n",
    "import numpy as np\n",
    "import itertools"
   ]
  },
  {
   "cell_type": "markdown",
   "id": "fae5eb96",
   "metadata": {},
   "source": [
    "## Step 0: Move Files from `data_tmp` to `data` and Create New Folders if needed"
   ]
  },
  {
   "cell_type": "code",
   "execution_count": 2,
   "id": "83f8042e",
   "metadata": {},
   "outputs": [
    {
     "name": "stdout",
     "output_type": "stream",
     "text": [
      "moved 0 files\n"
     ]
    }
   ],
   "source": [
    "# Path of new downloaded CESM data \n",
    "path='/data/keeling/a/cristi/a/data_tmp/cesm'\n",
    "# rootpath of target directory.\n",
    "rootpath='/data/keeling/a/cristi/a/esm_data/??'#Which directory should we use? \n",
    "\n",
    "def target_location_cmip(fname,rootpath): #generates target location \n",
    "    if rootpath[-1]!='/':\n",
    "        rootpath=rootpath+'/'\n",
    "    fname_set=fname.split('_')     \n",
    "    location=rootpath+fname_set[2]+'/'+fname_set[3]+'/'+fname_set[4]+'/'# index need change based on CESM files are named\n",
    "    return location\n",
    "\n",
    "# move files from current folder to target folders\n",
    "k_moved=0\n",
    "for j in listdir(path): #read all downlaoded files in data_tmp\n",
    "    current_dir=os.path.join(path, j) \n",
    "    target_dir= target_location_cmip(j,rootpath)\n",
    "    if target_dir!=current_dir:\n",
    "        if os.path.exists(target_dir)==False:\n",
    "            os.makedirs(target_dir) #make directories \n",
    "        shutil.move(current_dir,target_dir) #move files \n",
    "        k_moved+=1\n",
    "        \n",
    "print('moved '+str(k_moved)+' files')"
   ]
  },
  {
   "cell_type": "markdown",
   "id": "831a9e33",
   "metadata": {},
   "source": [
    "## Step 1: Get updated list of Subdirectories"
   ]
  },
  {
   "cell_type": "markdown",
   "id": "d0187444",
   "metadata": {},
   "source": [
    "1. Log onto Keeling and go to `/data/keeling/a/cristi/a/esm_data/cesm`\n",
    "\n",
    "2. Run the following line of code to the get the most updated list of all subdirectories\n",
    "\n",
    "`readlink -f $(find . -type d -path '*/r*' -prune) > subdir_list.csv` (Permission denied?)"
   ]
  },
  {
   "cell_type": "markdown",
   "id": "f87ba44e",
   "metadata": {},
   "source": [
    "## Get list of all subdirectories in `/data/keeling/a/cristi/a/data/cesm2`"
   ]
  },
  {
   "cell_type": "code",
   "execution_count": 5,
   "id": "271a5d3e",
   "metadata": {
    "scrolled": true
   },
   "outputs": [
    {
     "data": {
      "text/plain": [
       "['/data/cristi/a/cristi/esm_data/cesm']"
      ]
     },
     "execution_count": 5,
     "metadata": {},
     "output_type": "execute_result"
    }
   ],
   "source": [
    "filepathlist = pd.read_csv('/data/keeling/a/cristi/a/esm_data/cesm/subdir_list.csv', \n",
    "                       header=None,names=['dirpaths']).values.tolist()\n",
    "\n",
    "# Transform list of lists to list of strings\n",
    "filepath=list(itertools.chain.from_iterable(filepathlist))\n",
    "filepath"
   ]
  },
  {
   "cell_type": "markdown",
   "id": "6d98772e",
   "metadata": {
    "slideshow": {
     "slide_type": "subslide"
    }
   },
   "source": [
    "## Create Catalog Builder and Build the Catalog"
   ]
  },
  {
   "cell_type": "code",
   "execution_count": 6,
   "id": "9ff083dd",
   "metadata": {},
   "outputs": [
    {
     "name": "stderr",
     "output_type": "stream",
     "text": [
      "/data/keeling/a/mailes2/miniconda3/envs/paleoproj/lib/python3.10/site-packages/ecgtools/builder.py:204: UserWarning: Unable to parse 1 assets. A list of these assets can be found in `.invalid_assets` attribute.\n",
      "  ).clean_dataframe()\n"
     ]
    }
   ],
   "source": [
    "# Create the Builder\n",
    "cat_builder = Builder(\n",
    "    # Directory of Organized CMIP6 files \n",
    "    paths=filepath)\n",
    "\n",
    "# Build the Catalog\n",
    "catalog = cat_builder.build(parsing_func=parse_cesm_timeseries)"
   ]
  },
  {
   "cell_type": "markdown",
   "id": "2ee8421e",
   "metadata": {},
   "source": [
    "# Check and Save the Catalog"
   ]
  },
  {
   "cell_type": "code",
   "execution_count": 8,
   "id": "cfba4a05",
   "metadata": {},
   "outputs": [
    {
     "data": {
      "text/html": [
       "<div>\n",
       "<style scoped>\n",
       "    .dataframe tbody tr th:only-of-type {\n",
       "        vertical-align: middle;\n",
       "    }\n",
       "\n",
       "    .dataframe tbody tr th {\n",
       "        vertical-align: top;\n",
       "    }\n",
       "\n",
       "    .dataframe thead th {\n",
       "        text-align: right;\n",
       "    }\n",
       "</style>\n",
       "<table border=\"1\" class=\"dataframe\">\n",
       "  <thead>\n",
       "    <tr style=\"text-align: right;\">\n",
       "      <th></th>\n",
       "    </tr>\n",
       "  </thead>\n",
       "  <tbody>\n",
       "  </tbody>\n",
       "</table>\n",
       "</div>"
      ],
      "text/plain": [
       "Empty DataFrame\n",
       "Columns: []\n",
       "Index: []"
      ]
     },
     "execution_count": 8,
     "metadata": {},
     "output_type": "execute_result"
    }
   ],
   "source": [
    "# Browse the catalog\n",
    "catalog.df"
   ]
  },
  {
   "cell_type": "code",
   "execution_count": 9,
   "id": "3c247776",
   "metadata": {},
   "outputs": [],
   "source": [
    "# Save the catalog as .csv \n",
    "catalog.df.to_csv('/data/keeling/a/cristi/a/esm_data/cesm_lme_catalog.csv', index=False)"
   ]
  }
 ],
 "metadata": {
  "kernelspec": {
   "display_name": "Python 3 (ipykernel)",
   "language": "python",
   "name": "python3"
  },
  "language_info": {
   "codemirror_mode": {
    "name": "ipython",
    "version": 3
   },
   "file_extension": ".py",
   "mimetype": "text/x-python",
   "name": "python",
   "nbconvert_exporter": "python",
   "pygments_lexer": "ipython3",
   "version": "3.10.4"
  }
 },
 "nbformat": 4,
 "nbformat_minor": 5
}
