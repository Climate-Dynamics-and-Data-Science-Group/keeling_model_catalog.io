{
 "cells": [
  {
   "cell_type": "markdown",
   "id": "35e9a0e9",
   "metadata": {},
   "source": [
    "# Create Catalog for CMIP6 output"
   ]
  },
  {
   "cell_type": "code",
   "execution_count": 1,
   "id": "95c01691",
   "metadata": {},
   "outputs": [],
   "source": [
    "# Load packages\n",
    "import pathlib\n",
    "import intake\n",
    "from ecgtools import Builder\n",
    "from ecgtools.parsers import parse_cmip6\n",
    "import pandas as pd \n",
    "import xarray as xr\n",
    "import numpy as np\n",
    "import itertools\n",
    "from os import listdir\n",
    "from os.path import isfile, join\n",
    "import shutil"
   ]
  },
  {
   "cell_type": "markdown",
   "id": "250783bf",
   "metadata": {},
   "source": [
    "## Step 0: Move Files from `data_tmp` to `data` and Create New Folders if needed"
   ]
  },
  {
   "cell_type": "code",
   "execution_count": 2,
   "id": "8f113d01",
   "metadata": {},
   "outputs": [
    {
     "name": "stdout",
     "output_type": "stream",
     "text": [
      "moved 0 files\n"
     ]
    }
   ],
   "source": [
    "# Path of new downloaded CMIP6 data \n",
    "path='/data/keeling/a/cristi/a/data_tmp/cmip6'\n",
    "# rootpath of target directory.\n",
    "rootpath='/data/keeling/a/cristi/a/esm_data/cmip6'\n",
    "\n",
    "def target_location_cmip(fname,rootpath): #generates target location \n",
    "    if rootpath[-1]!='/':\n",
    "        rootpath=rootpath+'/'\n",
    "    fname_set=fname.split('_')     \n",
    "    location=rootpath+fname_set[2]+'/'+fname_set[3]+'/'+fname_set[4]+'/'    \n",
    "    return location\n",
    "\n",
    "# move files from current folder to target folders\n",
    "k_moved=0\n",
    "for j in listdir(path): #read all downlaoded files in data_tmp\n",
    "    current_dir=os.path.join(path, j) \n",
    "    target_dir= target_location_cmip(j,rootpath)\n",
    "    if target_dir!=current_dir:\n",
    "        if os.path.exists(target_dir)==False:\n",
    "            os.makedirs(target_dir) #make directories \n",
    "        shutil.move(current_dir,target_dir) #move files \n",
    "        k_moved+=1\n",
    "        \n",
    "print('moved '+str(k_moved)+' files')\n"
   ]
  },
  {
   "cell_type": "markdown",
   "id": "a629e583",
   "metadata": {},
   "source": [
    "## Step 1: Get updated list of Subdirectories"
   ]
  },
  {
   "cell_type": "markdown",
   "id": "4d745e30",
   "metadata": {},
   "source": [
    "1. Log onto Keeling and go to `/data/keeling/a/cristi/a/esm_data/cmip6`\n",
    "\n",
    "2. Run the following line of code to the get the most updated list of all subdirectories\n",
    "\n",
    "`readlink -f $(find . -type d -path '*/r*' -prune) > subdir_list.csv`"
   ]
  },
  {
   "cell_type": "markdown",
   "id": "800bf9a6",
   "metadata": {},
   "source": [
    "## Step 2: Load list of all subdirectories from `/data/keeling/a/cristi/a/data/cmip6` to Notebook"
   ]
  },
  {
   "cell_type": "code",
   "execution_count": 3,
   "id": "0311cc52",
   "metadata": {},
   "outputs": [],
   "source": [
    "filepathlist = pd.read_csv('/data/keeling/a/cristi/a/esm_data/cmip6/subdir_list.csv',\\\n",
    "                       header=None,names=['dirpaths']).values.tolist()\n",
    "\n",
    "# Transform list of lists to list of strings\n",
    "filepath=list(itertools.chain.from_iterable(filepathlist))"
   ]
  },
  {
   "cell_type": "markdown",
   "id": "15b0f11f",
   "metadata": {
    "slideshow": {
     "slide_type": "subslide"
    }
   },
   "source": [
    "## Step 3: Create Catalog Builder and Build the Catalog"
   ]
  },
  {
   "cell_type": "code",
   "execution_count": null,
   "id": "43827ceb",
   "metadata": {},
   "outputs": [],
   "source": [
    "# Create the Builder\n",
    "cat_builder = Builder(\n",
    "    # Directory of Organized CMIP6 files \n",
    "    paths=filepath)\n",
    "\n",
    "# Build the Catalog\n",
    "catalog = cat_builder.build(parsing_func=parse_cmip6)"
   ]
  },
  {
   "cell_type": "markdown",
   "id": "60b8ddcb",
   "metadata": {},
   "source": [
    "## Step 4: Check and Save the Catalog"
   ]
  },
  {
   "cell_type": "code",
   "execution_count": null,
   "id": "66f579d0",
   "metadata": {},
   "outputs": [],
   "source": [
    "# Browse the catalog\n",
    "catalog.df"
   ]
  },
  {
   "cell_type": "code",
   "execution_count": null,
   "id": "1d5707c1",
   "metadata": {},
   "outputs": [],
   "source": [
    "# Save the catalog as .csv \n",
    "catalog.df.to_csv('/data/keeling/a/cristi/a/esm_data/cmip6_catalog.csv', index=False)"
   ]
  }
 ],
 "metadata": {
  "kernelspec": {
   "display_name": "Python 3 (ipykernel)",
   "language": "python",
   "name": "python3"
  },
  "language_info": {
   "codemirror_mode": {
    "name": "ipython",
    "version": 3
   },
   "file_extension": ".py",
   "mimetype": "text/x-python",
   "name": "python",
   "nbconvert_exporter": "python",
   "pygments_lexer": "ipython3",
   "version": "3.10.4"
  }
 },
 "nbformat": 4,
 "nbformat_minor": 5
}
